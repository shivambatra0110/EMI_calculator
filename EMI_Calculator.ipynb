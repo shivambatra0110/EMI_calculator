{
 "cells": [
  {
   "cell_type": "code",
   "execution_count": 1,
   "id": "1495b025",
   "metadata": {},
   "outputs": [
    {
     "name": "stdout",
     "output_type": "stream",
     "text": [
      "For calculating emi\n",
      "Enter principal amount: 5000000\n",
      "Enter annual interest rate: 8\n",
      "Enter number of months: 180\n",
      "Monthly EMI =  47782.60421651782\n"
     ]
    }
   ],
   "source": [
    "# for question 1 \n",
    "print(\"For calculating emi\")\n",
    "p = float(input(\"Enter principal amount: \"))\n",
    "R = float(input(\"Enter annual interest rate: \"))\n",
    "n = int(input(\"Enter number of months: \" ))\n",
    "r = R/(12*100) #rate converted from yearly to month\n",
    "emi = p * r * ((1+r)**n)/((1+r)**n - 1)\n",
    "print(\"Monthly EMI = \", emi)"
   ]
  },
  {
   "cell_type": "code",
   "execution_count": 2,
   "id": "11415198",
   "metadata": {},
   "outputs": [
    {
     "name": "stdout",
     "output_type": "stream",
     "text": [
      "For calculating how much amount of loan bank can give\n",
      "Enter amount of emi amount you can afford : 30000\n",
      "Enter annual interest rate: 10\n",
      "Enter number of months: 180\n",
      "max loan amount bank can give is:  2791723.164689835\n"
     ]
    }
   ],
   "source": [
    "# for question 2\n",
    "print(\"For calculating how much amount of loan bank can give\")\n",
    "emi= int(input(\"Enter amount of emi amount you can afford : \" ))\n",
    "R =float(input(\"Enter annual interest rate: \"))\n",
    "M = int(input(\"Enter number of months: \"))\n",
    "r=R/(12*100)\n",
    "p1 =emi*((1+r)**M - 1)\n",
    "p2 =(r*((1+r)**M))\n",
    "p = p1/p2\n",
    "print(\"max loan amount bank can give is: \",p)"
   ]
  },
  {
   "cell_type": "code",
   "execution_count": 3,
   "id": "5a22177d",
   "metadata": {},
   "outputs": [
    {
     "name": "stdout",
     "output_type": "stream",
     "text": [
      "for calculating total interest paid by you year-wise\n",
      "total cumulative interest paid by you in 15 years\n",
      "and how many months would you have paid atleast 50% of the Principal amount\n",
      "Enter principal amount: 5000000\n",
      "Enter annual interest rate: 8\n",
      "Enter number of months: 180\n",
      "interest paid by you year wise is: \n",
      " 393498.90\n",
      " 378567.92\n",
      " 362397.68\n",
      " 344885.32\n",
      " 325919.44\n",
      " 305379.40\n",
      " 283134.55\n",
      " 259043.39\n",
      " 232952.67\n",
      " 204696.43\n",
      " 174094.94\n",
      " 140953.55\n",
      " 105061.43\n",
      "  66190.29\n",
      "  24092.86\n",
      "cumulative interest paid by you in 15 years is: 3600868.76\n",
      "No. of month on which you have paid 50% of your principal amount is: 116\n"
     ]
    }
   ],
   "source": [
    "# for question 3 and 4 \n",
    "print(\"for calculating total interest paid by you year-wise\")\n",
    "print(\"total cumulative interest paid by you in 15 years\")\n",
    "print(\"and how many months would you have paid atleast 50% of the Principal amount\")\n",
    "p = float(input(\"Enter principal amount: \"))\n",
    "R = float(input(\"Enter annual interest rate: \"))\n",
    "m = int(input(\"Enter number of months: \" ))\n",
    "r = R/(12*100)\n",
    "print (\"interest paid by you year wise is: \")\n",
    "import math \n",
    "import numpy_financial as npf\n",
    "ci=0\n",
    "sumci=0\n",
    "sumpc=0\n",
    "year_50 = 0\n",
    "printed=False\n",
    "emi=(npf.pmt(r,m,-p))\n",
    "for mn in range(1,m+1):\n",
    "    pc = npf.ppmt(r,mn,m,-p)\n",
    "    ic = npf.ipmt(r,mn,m,-p)\n",
    "    ci=ci+(ic)\n",
    "    sumpc=sumpc+pc\n",
    "    if sumpc >=p/2 and printed==False :\n",
    "        year_50=mn\n",
    "        printed = True\n",
    "    if mn % 12 == 0:\n",
    "        print('{:>10.2f}'.format(ci))\n",
    "        sumci=sumci+ci\n",
    "        ci=0\n",
    "print('cumulative interest paid by you in 15 years is: {:>10.2f}'.format(sumci))\n",
    "print(\"No. of month on which you have paid 50% of your principal amount is:\",year_50)"
   ]
  }
 ],
 "metadata": {
  "kernelspec": {
   "display_name": "Python 3 (ipykernel)",
   "language": "python",
   "name": "python3"
  },
  "language_info": {
   "codemirror_mode": {
    "name": "ipython",
    "version": 3
   },
   "file_extension": ".py",
   "mimetype": "text/x-python",
   "name": "python",
   "nbconvert_exporter": "python",
   "pygments_lexer": "ipython3",
   "version": "3.9.12"
  }
 },
 "nbformat": 4,
 "nbformat_minor": 5
}
