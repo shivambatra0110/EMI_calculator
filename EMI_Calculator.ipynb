{
 "cells": [
  {
   "cell_type": "markdown",
   "id": "805e4d54",
   "metadata": {},
   "source": [
    "## EMI Calculator (Using Python)\n",
    "\n",
    "We all have come across the term EMI in everyday life. While buying any product, we get an option of the EMI Payment method. The full form of EMI is Equated Monthly Installment. Through this, one must pay a specific sum to the seller on a fixed date each month with a fixed interest rate. EMI calculator helps calculate the amount with its interest rate that a buyer needs to pay to the seller.\n",
    "\n",
    "Factors affecting EMI EMI of a loan have three major factors on which it depends:\n",
    "\n",
    "1. Loan Amount: This stands for the total amount or the principal amount that the individual has borrowed.\n",
    "2. Interest Rate: It is a rate at which the interest is charged on the amount borrowed.\n",
    "3. Tenure of the Loan: It is an agreed loan repayment time frame between the borrower and the lender.\n",
    "\n",
    "So I have made a EMI Calculator using Python which can answer some Problem Statement related to EMI, Loan Amount, tenure and Principal Amount Which are:- \n",
    " \n",
    "1. Let’s calculate the Home Loan EMI now using Python code. Principal Amount X, Rate of interest Y, and Loan repayment tenure is Z years. Find the EMI to be paid?\n",
    "\n",
    "2. If you cannot pay more than XXXX Amount as EMI, find the maximum amount of Loan you can take/afford for the period?\n",
    "\n",
    "3. what is the total interest paid by you year-wise (from the 1st year to the Zth year). Also, what is the total cumulative interest paid by you in Z years?\n",
    "\n",
    "4. In how many months would you have paid atleast 50% of the Principal amount."
   ]
  },
  {
   "cell_type": "code",
   "execution_count": 1,
   "id": "1495b025",
   "metadata": {},
   "outputs": [
    {
     "name": "stdout",
     "output_type": "stream",
     "text": [
      "For calculating emi\n",
      "Enter principal amount: 5000000\n",
      "Enter annual interest rate: 8\n",
      "Enter number of months: 180\n",
      "Monthly EMI =  47782.60421651782\n"
     ]
    }
   ],
   "source": [
    "# For Problem Statement 1 \n",
    "print('For Problem Statement 1')\n",
    "print(\"For Calculating EMI\")\n",
    "p = float(input(\"Enter principal amount: \"))\n",
    "R = float(input(\"Enter annual interest rate: \"))\n",
    "n = int(input(\"Enter number of months: \" ))\n",
    "r = R/(12*100) #rate converted from yearly to month\n",
    "emi = p * r * ((1+r)**n)/((1+r)**n - 1)\n",
    "print(\"Monthly EMI = \", emi)"
   ]
  },
  {
   "cell_type": "code",
   "execution_count": 2,
   "id": "11415198",
   "metadata": {},
   "outputs": [
    {
     "name": "stdout",
     "output_type": "stream",
     "text": [
      "For calculating how much amount of loan bank can give\n",
      "Enter amount of emi amount you can afford : 30000\n",
      "Enter annual interest rate: 10\n",
      "Enter number of months: 180\n",
      "max loan amount bank can give is:  2791723.164689835\n"
     ]
    }
   ],
   "source": [
    "# For Problem Statement 2\n",
    "print('For Problem Statement 2')\n",
    "print(\"For Calculating how much amount of loan bank can give\")\n",
    "emi= int(input(\"Enter amount of emi amount you can afford : \" ))\n",
    "R =float(input(\"Enter annual interest rate: \"))\n",
    "M = int(input(\"Enter number of months: \"))\n",
    "r=R/(12*100)\n",
    "p1 =emi*((1+r)**M - 1)\n",
    "p2 =(r*((1+r)**M))\n",
    "p = p1/p2\n",
    "print(\"max loan amount bank can give is: \",p)"
   ]
  },
  {
   "cell_type": "code",
   "execution_count": 3,
   "id": "5a22177d",
   "metadata": {},
   "outputs": [
    {
     "name": "stdout",
     "output_type": "stream",
     "text": [
      "for calculating total interest paid by you year-wise\n",
      "total cumulative interest paid by you in 15 years\n",
      "and how many months would you have paid atleast 50% of the Principal amount\n",
      "Enter principal amount: 5000000\n",
      "Enter annual interest rate: 8\n",
      "Enter number of months: 180\n",
      "interest paid by you year wise is: \n",
      " 393498.90\n",
      " 378567.92\n",
      " 362397.68\n",
      " 344885.32\n",
      " 325919.44\n",
      " 305379.40\n",
      " 283134.55\n",
      " 259043.39\n",
      " 232952.67\n",
      " 204696.43\n",
      " 174094.94\n",
      " 140953.55\n",
      " 105061.43\n",
      "  66190.29\n",
      "  24092.86\n",
      "cumulative interest paid by you in 15 years is: 3600868.76\n",
      "No. of month on which you have paid 50% of your principal amount is: 116\n"
     ]
    }
   ],
   "source": [
    "# For Problem Statement 3 and 4 \n",
    "print('For Problem Statement 3')\n",
    "print(\"for calculating total interest paid by you year-wise\")\n",
    "print(\"total cumulative interest paid by you in 15 years\")\n",
    "print(\"and how many months would you have paid atleast 50% of the Principal amount\")\n",
    "p = float(input(\"Enter principal amount: \"))\n",
    "R = float(input(\"Enter annual interest rate: \"))\n",
    "m = int(input(\"Enter number of months: \" ))\n",
    "r = R/(12*100)\n",
    "\n",
    "print (\"interest paid by you year wise is: \")\n",
    "import math \n",
    "import numpy_financial as npf\n",
    "ci=0\n",
    "sumci=0\n",
    "sumpc=0\n",
    "year_50 = 0\n",
    "printed=False\n",
    "emi=(npf.pmt(r,m,-p))\n",
    "for mn in range(1,m+1):\n",
    "    pc = npf.ppmt(r,mn,m,-p)\n",
    "    ic = npf.ipmt(r,mn,m,-p)\n",
    "    ci=ci+(ic)\n",
    "    sumpc=sumpc+pc\n",
    "    if sumpc >=p/2 and printed==False :\n",
    "        year_50=mn\n",
    "        printed = True\n",
    "    if mn % 12 == 0:\n",
    "        print('{:>10.2f}'.format(ci))\n",
    "        sumci=sumci+ci\n",
    "        ci=0\n",
    "print('cumulative interest paid by you in 15 years is: {:>10.2f}'.format(sumci))\n",
    "print('For Problem Statement 4')\n",
    "print('No. of month on which you have paid 50% of your principal amount is:',year_50)"
   ]
  }
 ],
 "metadata": {
  "kernelspec": {
   "display_name": "Python 3 (ipykernel)",
   "language": "python",
   "name": "python3"
  },
  "language_info": {
   "codemirror_mode": {
    "name": "ipython",
    "version": 3
   },
   "file_extension": ".py",
   "mimetype": "text/x-python",
   "name": "python",
   "nbconvert_exporter": "python",
   "pygments_lexer": "ipython3",
   "version": "3.9.12"
  }
 },
 "nbformat": 4,
 "nbformat_minor": 5
}
